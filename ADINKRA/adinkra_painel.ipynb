{
  "nbformat": 4,
  "nbformat_minor": 0,
  "metadata": {
    "colab": {
      "provenance": [],
      "authorship_tag": "ABX9TyP3KwNbXTjJS4UuxNsatBOJ",
      "include_colab_link": true
    },
    "kernelspec": {
      "name": "python3",
      "display_name": "Python 3"
    },
    "language_info": {
      "name": "python"
    }
  },
  "cells": [
    {
      "cell_type": "markdown",
      "metadata": {
        "id": "view-in-github",
        "colab_type": "text"
      },
      "source": [
        "<a href=\"https://colab.research.google.com/github/marioluciofjr/codesoiram.python/blob/main/adinkra_painel.ipynb\" target=\"_parent\"><img src=\"https://colab.research.google.com/assets/colab-badge.svg\" alt=\"Open In Colab\"/></a>"
      ]
    },
    {
      "cell_type": "markdown",
      "source": [
        "# Explicação\n",
        "Adinkra são símbolos visuais com significado histórico e filosófico originalmente impressos em tecidos que a realeza usava em cerimônias importantes. Originários do povo Gyaman do Gana e da Costa do Marfim, os símbolos assumiram importância global e são agora encontrados em logótipos, roupas, móveis, esculturas, potes de barro e muitos outros.\n",
        "\n",
        "Saturados de significado, estes símbolos passaram a simbolizar a riqueza da cultura Akan em particular e da cultura africana em geral, pois servem como um atalho para comunicar verdades profundas em forma visual. Na verdade, muitos dos símbolos têm os seus próprios provérbios Akan ligados a eles.\n",
        "\n",
        "Além disso, a adopção generalizada de Adinkra, especialmente entre os afro-americanos e outros africanos em toda a diáspora, tornou-os ícones dos símbolos e da filosofia africana.\n",
        "\n",
        "## Nea Onnim\n",
        "Aquele que não sabe; do provérbio: “Quando quem não sabe aprende, ele conhece”. É um símbolo de conhecimento, educação ao longo da vida e busca contínua pelo conhecimento."
      ],
      "metadata": {
        "id": "rZgmX354Ht27"
      }
    },
    {
      "cell_type": "code",
      "execution_count": 1,
      "metadata": {
        "colab": {
          "base_uri": "https://localhost:8080/"
        },
        "id": "JHx8rjGt7_gL",
        "outputId": "3dbf5021-ba32-4b72-cbf2-40690614d66f"
      },
      "outputs": [
        {
          "output_type": "stream",
          "name": "stdout",
          "text": [
            "Collecting ColabTurtlePlus\n",
            "  Downloading ColabTurtlePlus-2.0.1-py3-none-any.whl (31 kB)\n",
            "Installing collected packages: ColabTurtlePlus\n",
            "Successfully installed ColabTurtlePlus-2.0.1\n",
            "Put clearscreen() as the first line in a cell (after the import command) to re-run turtle commands in the cell\n"
          ]
        }
      ],
      "source": [
        "!pip install ColabTurtlePlus\n",
        "from ColabTurtlePlus.Turtle import *"
      ]
    },
    {
      "cell_type": "code",
      "source": [
        "setup(8000,4000)\n",
        "initializeTurtle()\n",
        "speed(13)\n",
        "pensize(10)\n",
        "\n",
        "def fdbkleft():\n",
        "  fd(120)\n",
        "  bk(120)\n",
        "  left(90)\n",
        "\n",
        "def fdright():\n",
        "  fd(60)\n",
        "  right(90)\n",
        "\n",
        "def fdbkright_noventa():\n",
        "  fd(90)\n",
        "  bk(90)\n",
        "  right(90)\n",
        "\n",
        "def fdleft():\n",
        "  fd(120)\n",
        "  left(90)\n",
        "\n",
        "def fdleft_sessenta_noventa():\n",
        "  fd(60)\n",
        "  left(90)\n",
        "\n",
        "def fdright_centoevinte_noventa():\n",
        "  fd(120)\n",
        "  right(90)\n",
        "\n",
        "def fdbkright_centoevinte_noventa():\n",
        "  fd(120)\n",
        "  bk(120)\n",
        "  right(90)\n",
        "\n",
        "def combinado():\n",
        "  fdbkright_centoevinte_noventa()\n",
        "  fdleft_sessenta_noventa()\n",
        "\n",
        "\n",
        "def nea_onnim():\n",
        "  speed(13)\n",
        "  pensize(15)\n",
        "  left(180)\n",
        "  fdright()\n",
        "  fd(60)\n",
        "  fd(120)\n",
        "  left(90)\n",
        "  fdbkleft()\n",
        "  fdright()\n",
        "  fd(90)\n",
        "  bk(90)\n",
        "  left(90)\n",
        "  fdright()\n",
        "  for _ in range(2):\n",
        "    fdleft()\n",
        "  fdleft_sessenta_noventa()\n",
        "  fdbkright_centoevinte_noventa()\n",
        "  fdleft_sessenta_noventa()\n",
        "  for _ in range(2):\n",
        "    fdright_centoevinte_noventa()\n",
        "  fdright()\n",
        "  fdleft()\n",
        "  fd(180)\n",
        "  right(90)\n",
        "  fdbkright_centoevinte_noventa()\n",
        "  fdleft_sessenta_noventa()\n",
        "  fdbkright_noventa()\n",
        "  for _ in range(2):\n",
        "    fdright()\n",
        "  fdbkleft()\n",
        "  fdleft_sessenta_noventa()\n",
        "  fdleft()\n",
        "  fdright()\n",
        "  combinado()\n",
        "  fdright_centoevinte_noventa()\n",
        "  combinado()\n",
        "  fdbkright_noventa()\n",
        "  fdleft_sessenta_noventa()\n",
        "  for _ in range(2):\n",
        "    fdright_centoevinte_noventa()\n",
        "  fdright()\n",
        "  fdbkleft()\n",
        "  for _ in range(2):\n",
        "    fdleft_sessenta_noventa()\n",
        "  fdbkright_noventa()\n",
        "  fdleft_sessenta_noventa()\n",
        "  fd(120)\n",
        "\n",
        "bgcolor(\"#fea500\")\n",
        "pencolor(\"#231f20\")\n",
        "\n",
        "penup()\n",
        "goto(-200, 0)\n",
        "pendown()\n",
        "\n",
        "nea_onnim()\n",
        "\n",
        "penup()\n",
        "goto(200, 0)\n",
        "pendown()\n",
        "\n",
        "nea_onnim()\n",
        "\n",
        "penup()\n",
        "goto(0, 400)\n",
        "pendown()\n",
        "\n",
        "nea_onnim()\n",
        "\n",
        "penup()\n",
        "goto(0, -400)\n",
        "pendown()\n",
        "\n",
        "nea_onnim()\n",
        "saveSVG(\"adinkras.svg\", False)\n",
        "\n"
      ],
      "metadata": {
        "colab": {
          "base_uri": "https://localhost:8080/",
          "height": 621
        },
        "id": "ZDDl98EN85V-",
        "outputId": "7542aeb2-f6a0-4bbd-8518-d1eabff73fd7"
      },
      "execution_count": 64,
      "outputs": [
        {
          "output_type": "display_data",
          "data": {
            "text/plain": [
              "<IPython.core.display.HTML object>"
            ],
            "text/html": [
              "\n",
              "      <svg width=\"800\" height=\"600\">  \n",
              "        <rect width=\"100%\" height=\"100%\" style=\"fill:#fea500;stroke:;stroke-width:1\"/>\n",
              "        \n",
              "        \n",
              "        <line x1=\"200.0\" y1=\"300.0\" x2=\"140.0\" y2=\"300.0\" stroke-linecap=\"round\" style=\"stroke:#231f20;stroke-width:15\" /><line x1=\"140.0\" y1=\"300.0\" x2=\"140.0\" y2=\"240.0\" stroke-linecap=\"round\" style=\"stroke:#231f20;stroke-width:15\" /><line x1=\"140.0\" y1=\"240.0\" x2=\"140.0\" y2=\"120.0\" stroke-linecap=\"round\" style=\"stroke:#231f20;stroke-width:15\" /><line x1=\"140.0\" y1=\"120.0\" x2=\"20.0\" y2=\"120.0\" stroke-linecap=\"round\" style=\"stroke:#231f20;stroke-width:15\" /><line x1=\"20.0\" y1=\"120.0\" x2=\"140.0\" y2=\"120.0\" stroke-linecap=\"round\" style=\"stroke:#231f20;stroke-width:15\" /><line x1=\"140.0\" y1=\"120.0\" x2=\"140.0\" y2=\"180.0\" stroke-linecap=\"round\" style=\"stroke:#231f20;stroke-width:15\" /><line x1=\"140.0\" y1=\"180.0\" x2=\"50.0\" y2=\"180.0\" stroke-linecap=\"round\" style=\"stroke:#231f20;stroke-width:15\" /><line x1=\"50.0\" y1=\"180.0\" x2=\"140.0\" y2=\"180.0\" stroke-linecap=\"round\" style=\"stroke:#231f20;stroke-width:15\" /><line x1=\"140.0\" y1=\"180.0\" x2=\"140.0\" y2=\"240.0\" stroke-linecap=\"round\" style=\"stroke:#231f20;stroke-width:15\" /><line x1=\"140.0\" y1=\"240.0\" x2=\"20.0\" y2=\"240.0\" stroke-linecap=\"round\" style=\"stroke:#231f20;stroke-width:15\" /><line x1=\"20.0\" y1=\"240.0\" x2=\"20.0\" y2=\"360.0\" stroke-linecap=\"round\" style=\"stroke:#231f20;stroke-width:15\" /><line x1=\"20.0\" y1=\"360.0\" x2=\"80.0\" y2=\"360.0\" stroke-linecap=\"round\" style=\"stroke:#231f20;stroke-width:15\" /><line x1=\"80.0\" y1=\"360.0\" x2=\"80.0\" y2=\"240.0\" stroke-linecap=\"round\" style=\"stroke:#231f20;stroke-width:15\" /><line x1=\"80.0\" y1=\"240.0\" x2=\"80.0\" y2=\"360.0\" stroke-linecap=\"round\" style=\"stroke:#231f20;stroke-width:15\" /><line x1=\"80.0\" y1=\"360.0\" x2=\"140.0\" y2=\"360.0\" stroke-linecap=\"round\" style=\"stroke:#231f20;stroke-width:15\" /><line x1=\"140.0\" y1=\"360.0\" x2=\"140.0\" y2=\"240.0\" stroke-linecap=\"round\" style=\"stroke:#231f20;stroke-width:15\" /><line x1=\"140.0\" y1=\"240.0\" x2=\"260.0\" y2=\"240.0\" stroke-linecap=\"round\" style=\"stroke:#231f20;stroke-width:15\" /><line x1=\"260.0\" y1=\"240.0\" x2=\"260.0\" y2=\"300.0\" stroke-linecap=\"round\" style=\"stroke:#231f20;stroke-width:15\" /><line x1=\"260.0\" y1=\"300.0\" x2=\"140.0\" y2=\"300.0\" stroke-linecap=\"round\" style=\"stroke:#231f20;stroke-width:15\" /><line x1=\"140.0\" y1=\"300.0\" x2=\"140.0\" y2=\"480.0\" stroke-linecap=\"round\" style=\"stroke:#231f20;stroke-width:15\" /><line x1=\"140.0\" y1=\"480.0\" x2=\"20.0\" y2=\"480.0\" stroke-linecap=\"round\" style=\"stroke:#231f20;stroke-width:15\" /><line x1=\"20.0\" y1=\"480.0\" x2=\"140.0\" y2=\"480.0\" stroke-linecap=\"round\" style=\"stroke:#231f20;stroke-width:15\" /><line x1=\"140.0\" y1=\"480.0\" x2=\"140.0\" y2=\"420.0\" stroke-linecap=\"round\" style=\"stroke:#231f20;stroke-width:15\" /><line x1=\"140.0\" y1=\"420.0\" x2=\"50.0\" y2=\"420.0\" stroke-linecap=\"round\" style=\"stroke:#231f20;stroke-width:15\" /><line x1=\"50.0\" y1=\"420.0\" x2=\"140.0\" y2=\"420.0\" stroke-linecap=\"round\" style=\"stroke:#231f20;stroke-width:15\" /><line x1=\"140.0\" y1=\"420.0\" x2=\"140.0\" y2=\"360.0\" stroke-linecap=\"round\" style=\"stroke:#231f20;stroke-width:15\" /><line x1=\"140.0\" y1=\"360.0\" x2=\"200.0\" y2=\"360.0\" stroke-linecap=\"round\" style=\"stroke:#231f20;stroke-width:15\" /><line x1=\"200.0\" y1=\"360.0\" x2=\"200.0\" y2=\"480.0\" stroke-linecap=\"round\" style=\"stroke:#231f20;stroke-width:15\" /><line x1=\"200.0\" y1=\"480.0\" x2=\"200.0\" y2=\"360.0\" stroke-linecap=\"round\" style=\"stroke:#231f20;stroke-width:15\" /><line x1=\"200.0\" y1=\"360.0\" x2=\"260.0\" y2=\"360.0\" stroke-linecap=\"round\" style=\"stroke:#231f20;stroke-width:15\" /><line x1=\"260.0\" y1=\"360.0\" x2=\"260.0\" y2=\"240.0\" stroke-linecap=\"round\" style=\"stroke:#231f20;stroke-width:15\" /><line x1=\"260.0\" y1=\"240.0\" x2=\"200.0\" y2=\"240.0\" stroke-linecap=\"round\" style=\"stroke:#231f20;stroke-width:15\" /><line x1=\"200.0\" y1=\"240.0\" x2=\"200.0\" y2=\"120.0\" stroke-linecap=\"round\" style=\"stroke:#231f20;stroke-width:15\" /><line x1=\"200.0\" y1=\"120.0\" x2=\"200.0\" y2=\"240.0\" stroke-linecap=\"round\" style=\"stroke:#231f20;stroke-width:15\" /><line x1=\"200.0\" y1=\"240.0\" x2=\"260.0\" y2=\"240.0\" stroke-linecap=\"round\" style=\"stroke:#231f20;stroke-width:15\" /><line x1=\"260.0\" y1=\"240.0\" x2=\"260.0\" y2=\"120.0\" stroke-linecap=\"round\" style=\"stroke:#231f20;stroke-width:15\" /><line x1=\"260.0\" y1=\"120.0\" x2=\"380.0\" y2=\"120.0\" stroke-linecap=\"round\" style=\"stroke:#231f20;stroke-width:15\" /><line x1=\"380.0\" y1=\"120.0\" x2=\"260.0\" y2=\"120.0\" stroke-linecap=\"round\" style=\"stroke:#231f20;stroke-width:15\" /><line x1=\"260.0\" y1=\"120.0\" x2=\"260.0\" y2=\"180.0\" stroke-linecap=\"round\" style=\"stroke:#231f20;stroke-width:15\" /><line x1=\"260.0\" y1=\"180.0\" x2=\"350.0\" y2=\"180.0\" stroke-linecap=\"round\" style=\"stroke:#231f20;stroke-width:15\" /><line x1=\"350.0\" y1=\"180.0\" x2=\"260.0\" y2=\"180.0\" stroke-linecap=\"round\" style=\"stroke:#231f20;stroke-width:15\" /><line x1=\"260.0\" y1=\"180.0\" x2=\"260.0\" y2=\"240.0\" stroke-linecap=\"round\" style=\"stroke:#231f20;stroke-width:15\" /><line x1=\"260.0\" y1=\"240.0\" x2=\"380.0\" y2=\"240.0\" stroke-linecap=\"round\" style=\"stroke:#231f20;stroke-width:15\" /><line x1=\"380.0\" y1=\"240.0\" x2=\"380.0\" y2=\"360.0\" stroke-linecap=\"round\" style=\"stroke:#231f20;stroke-width:15\" /><line x1=\"380.0\" y1=\"360.0\" x2=\"320.0\" y2=\"360.0\" stroke-linecap=\"round\" style=\"stroke:#231f20;stroke-width:15\" /><line x1=\"320.0\" y1=\"360.0\" x2=\"320.0\" y2=\"240.0\" stroke-linecap=\"round\" style=\"stroke:#231f20;stroke-width:15\" /><line x1=\"320.0\" y1=\"240.0\" x2=\"320.0\" y2=\"360.0\" stroke-linecap=\"round\" style=\"stroke:#231f20;stroke-width:15\" /><line x1=\"320.0\" y1=\"360.0\" x2=\"260.0\" y2=\"360.0\" stroke-linecap=\"round\" style=\"stroke:#231f20;stroke-width:15\" /><line x1=\"260.0\" y1=\"360.0\" x2=\"260.0\" y2=\"420.0\" stroke-linecap=\"round\" style=\"stroke:#231f20;stroke-width:15\" /><line x1=\"260.0\" y1=\"420.0\" x2=\"350.0\" y2=\"420.0\" stroke-linecap=\"round\" style=\"stroke:#231f20;stroke-width:15\" /><line x1=\"350.0\" y1=\"420.0\" x2=\"260.0\" y2=\"420.0\" stroke-linecap=\"round\" style=\"stroke:#231f20;stroke-width:15\" /><line x1=\"260.0\" y1=\"420.0\" x2=\"260.0\" y2=\"480.0\" stroke-linecap=\"round\" style=\"stroke:#231f20;stroke-width:15\" /><line x1=\"260.0\" y1=\"480.0\" x2=\"380.0\" y2=\"480.0\" stroke-linecap=\"round\" style=\"stroke:#231f20;stroke-width:15\" /><line x1=\"600.0\" y1=\"300.0\" x2=\"540.0\" y2=\"300.0\" stroke-linecap=\"round\" style=\"stroke:#231f20;stroke-width:15\" /><line x1=\"540.0\" y1=\"300.0\" x2=\"540.0\" y2=\"240.0\" stroke-linecap=\"round\" style=\"stroke:#231f20;stroke-width:15\" /><line x1=\"540.0\" y1=\"240.0\" x2=\"540.0\" y2=\"120.0\" stroke-linecap=\"round\" style=\"stroke:#231f20;stroke-width:15\" /><line x1=\"540.0\" y1=\"120.0\" x2=\"420.0\" y2=\"120.0\" stroke-linecap=\"round\" style=\"stroke:#231f20;stroke-width:15\" /><line x1=\"420.0\" y1=\"120.0\" x2=\"540.0\" y2=\"120.0\" stroke-linecap=\"round\" style=\"stroke:#231f20;stroke-width:15\" /><line x1=\"540.0\" y1=\"120.0\" x2=\"540.0\" y2=\"180.0\" stroke-linecap=\"round\" style=\"stroke:#231f20;stroke-width:15\" /><line x1=\"540.0\" y1=\"180.0\" x2=\"450.0\" y2=\"180.0\" stroke-linecap=\"round\" style=\"stroke:#231f20;stroke-width:15\" /><line x1=\"450.0\" y1=\"180.0\" x2=\"540.0\" y2=\"180.0\" stroke-linecap=\"round\" style=\"stroke:#231f20;stroke-width:15\" /><line x1=\"540.0\" y1=\"180.0\" x2=\"540.0\" y2=\"240.0\" stroke-linecap=\"round\" style=\"stroke:#231f20;stroke-width:15\" /><line x1=\"540.0\" y1=\"240.0\" x2=\"420.0\" y2=\"240.0\" stroke-linecap=\"round\" style=\"stroke:#231f20;stroke-width:15\" /><line x1=\"420.0\" y1=\"240.0\" x2=\"420.0\" y2=\"360.0\" stroke-linecap=\"round\" style=\"stroke:#231f20;stroke-width:15\" /><line x1=\"420.0\" y1=\"360.0\" x2=\"480.0\" y2=\"360.0\" stroke-linecap=\"round\" style=\"stroke:#231f20;stroke-width:15\" /><line x1=\"480.0\" y1=\"360.0\" x2=\"480.0\" y2=\"240.0\" stroke-linecap=\"round\" style=\"stroke:#231f20;stroke-width:15\" /><line x1=\"480.0\" y1=\"240.0\" x2=\"480.0\" y2=\"360.0\" stroke-linecap=\"round\" style=\"stroke:#231f20;stroke-width:15\" /><line x1=\"480.0\" y1=\"360.0\" x2=\"540.0\" y2=\"360.0\" stroke-linecap=\"round\" style=\"stroke:#231f20;stroke-width:15\" /><line x1=\"540.0\" y1=\"360.0\" x2=\"540.0\" y2=\"240.0\" stroke-linecap=\"round\" style=\"stroke:#231f20;stroke-width:15\" /><line x1=\"540.0\" y1=\"240.0\" x2=\"660.0\" y2=\"240.0\" stroke-linecap=\"round\" style=\"stroke:#231f20;stroke-width:15\" /><line x1=\"660.0\" y1=\"240.0\" x2=\"660.0\" y2=\"300.0\" stroke-linecap=\"round\" style=\"stroke:#231f20;stroke-width:15\" /><line x1=\"660.0\" y1=\"300.0\" x2=\"540.0\" y2=\"300.0\" stroke-linecap=\"round\" style=\"stroke:#231f20;stroke-width:15\" /><line x1=\"540.0\" y1=\"300.0\" x2=\"540.0\" y2=\"480.0\" stroke-linecap=\"round\" style=\"stroke:#231f20;stroke-width:15\" /><line x1=\"540.0\" y1=\"480.0\" x2=\"420.0\" y2=\"480.0\" stroke-linecap=\"round\" style=\"stroke:#231f20;stroke-width:15\" /><line x1=\"420.0\" y1=\"480.0\" x2=\"540.0\" y2=\"480.0\" stroke-linecap=\"round\" style=\"stroke:#231f20;stroke-width:15\" /><line x1=\"540.0\" y1=\"480.0\" x2=\"540.0\" y2=\"420.0\" stroke-linecap=\"round\" style=\"stroke:#231f20;stroke-width:15\" /><line x1=\"540.0\" y1=\"420.0\" x2=\"450.0\" y2=\"420.0\" stroke-linecap=\"round\" style=\"stroke:#231f20;stroke-width:15\" /><line x1=\"450.0\" y1=\"420.0\" x2=\"540.0\" y2=\"420.0\" stroke-linecap=\"round\" style=\"stroke:#231f20;stroke-width:15\" /><line x1=\"540.0\" y1=\"420.0\" x2=\"540.0\" y2=\"360.0\" stroke-linecap=\"round\" style=\"stroke:#231f20;stroke-width:15\" /><line x1=\"540.0\" y1=\"360.0\" x2=\"600.0\" y2=\"360.0\" stroke-linecap=\"round\" style=\"stroke:#231f20;stroke-width:15\" /><line x1=\"600.0\" y1=\"360.0\" x2=\"600.0\" y2=\"480.0\" stroke-linecap=\"round\" style=\"stroke:#231f20;stroke-width:15\" /><line x1=\"600.0\" y1=\"480.0\" x2=\"600.0\" y2=\"360.0\" stroke-linecap=\"round\" style=\"stroke:#231f20;stroke-width:15\" /><line x1=\"600.0\" y1=\"360.0\" x2=\"660.0\" y2=\"360.0\" stroke-linecap=\"round\" style=\"stroke:#231f20;stroke-width:15\" /><line x1=\"660.0\" y1=\"360.0\" x2=\"660.0\" y2=\"240.0\" stroke-linecap=\"round\" style=\"stroke:#231f20;stroke-width:15\" /><line x1=\"660.0\" y1=\"240.0\" x2=\"600.0\" y2=\"240.0\" stroke-linecap=\"round\" style=\"stroke:#231f20;stroke-width:15\" /><line x1=\"600.0\" y1=\"240.0\" x2=\"600.0\" y2=\"120.0\" stroke-linecap=\"round\" style=\"stroke:#231f20;stroke-width:15\" /><line x1=\"600.0\" y1=\"120.0\" x2=\"600.0\" y2=\"240.0\" stroke-linecap=\"round\" style=\"stroke:#231f20;stroke-width:15\" /><line x1=\"600.0\" y1=\"240.0\" x2=\"660.0\" y2=\"240.0\" stroke-linecap=\"round\" style=\"stroke:#231f20;stroke-width:15\" /><line x1=\"660.0\" y1=\"240.0\" x2=\"660.0\" y2=\"120.0\" stroke-linecap=\"round\" style=\"stroke:#231f20;stroke-width:15\" /><line x1=\"660.0\" y1=\"120.0\" x2=\"780.0\" y2=\"120.0\" stroke-linecap=\"round\" style=\"stroke:#231f20;stroke-width:15\" /><line x1=\"780.0\" y1=\"120.0\" x2=\"660.0\" y2=\"120.0\" stroke-linecap=\"round\" style=\"stroke:#231f20;stroke-width:15\" /><line x1=\"660.0\" y1=\"120.0\" x2=\"660.0\" y2=\"180.0\" stroke-linecap=\"round\" style=\"stroke:#231f20;stroke-width:15\" /><line x1=\"660.0\" y1=\"180.0\" x2=\"750.0\" y2=\"180.0\" stroke-linecap=\"round\" style=\"stroke:#231f20;stroke-width:15\" /><line x1=\"750.0\" y1=\"180.0\" x2=\"660.0\" y2=\"180.0\" stroke-linecap=\"round\" style=\"stroke:#231f20;stroke-width:15\" /><line x1=\"660.0\" y1=\"180.0\" x2=\"660.0\" y2=\"240.0\" stroke-linecap=\"round\" style=\"stroke:#231f20;stroke-width:15\" /><line x1=\"660.0\" y1=\"240.0\" x2=\"780.0\" y2=\"240.0\" stroke-linecap=\"round\" style=\"stroke:#231f20;stroke-width:15\" /><line x1=\"780.0\" y1=\"240.0\" x2=\"780.0\" y2=\"360.0\" stroke-linecap=\"round\" style=\"stroke:#231f20;stroke-width:15\" /><line x1=\"780.0\" y1=\"360.0\" x2=\"720.0\" y2=\"360.0\" stroke-linecap=\"round\" style=\"stroke:#231f20;stroke-width:15\" /><line x1=\"720.0\" y1=\"360.0\" x2=\"720.0\" y2=\"240.0\" stroke-linecap=\"round\" style=\"stroke:#231f20;stroke-width:15\" /><line x1=\"720.0\" y1=\"240.0\" x2=\"720.0\" y2=\"360.0\" stroke-linecap=\"round\" style=\"stroke:#231f20;stroke-width:15\" /><line x1=\"720.0\" y1=\"360.0\" x2=\"660.0\" y2=\"360.0\" stroke-linecap=\"round\" style=\"stroke:#231f20;stroke-width:15\" /><line x1=\"660.0\" y1=\"360.0\" x2=\"660.0\" y2=\"420.0\" stroke-linecap=\"round\" style=\"stroke:#231f20;stroke-width:15\" /><line x1=\"660.0\" y1=\"420.0\" x2=\"750.0\" y2=\"420.0\" stroke-linecap=\"round\" style=\"stroke:#231f20;stroke-width:15\" /><line x1=\"750.0\" y1=\"420.0\" x2=\"660.0\" y2=\"420.0\" stroke-linecap=\"round\" style=\"stroke:#231f20;stroke-width:15\" /><line x1=\"660.0\" y1=\"420.0\" x2=\"660.0\" y2=\"480.0\" stroke-linecap=\"round\" style=\"stroke:#231f20;stroke-width:15\" /><line x1=\"660.0\" y1=\"480.0\" x2=\"780.0\" y2=\"480.0\" stroke-linecap=\"round\" style=\"stroke:#231f20;stroke-width:15\" /><line x1=\"400.0\" y1=\"-100.0\" x2=\"340.0\" y2=\"-100.0\" stroke-linecap=\"round\" style=\"stroke:#231f20;stroke-width:15\" /><line x1=\"340.0\" y1=\"-100.0\" x2=\"340.0\" y2=\"-160.0\" stroke-linecap=\"round\" style=\"stroke:#231f20;stroke-width:15\" /><line x1=\"340.0\" y1=\"-160.0\" x2=\"340.0\" y2=\"-280.0\" stroke-linecap=\"round\" style=\"stroke:#231f20;stroke-width:15\" /><line x1=\"340.0\" y1=\"-280.0\" x2=\"220.0\" y2=\"-280.0\" stroke-linecap=\"round\" style=\"stroke:#231f20;stroke-width:15\" /><line x1=\"220.0\" y1=\"-280.0\" x2=\"340.0\" y2=\"-280.0\" stroke-linecap=\"round\" style=\"stroke:#231f20;stroke-width:15\" /><line x1=\"340.0\" y1=\"-280.0\" x2=\"340.0\" y2=\"-220.0\" stroke-linecap=\"round\" style=\"stroke:#231f20;stroke-width:15\" /><line x1=\"340.0\" y1=\"-220.0\" x2=\"250.0\" y2=\"-220.0\" stroke-linecap=\"round\" style=\"stroke:#231f20;stroke-width:15\" /><line x1=\"250.0\" y1=\"-220.0\" x2=\"340.0\" y2=\"-220.0\" stroke-linecap=\"round\" style=\"stroke:#231f20;stroke-width:15\" /><line x1=\"340.0\" y1=\"-220.0\" x2=\"340.0\" y2=\"-160.0\" stroke-linecap=\"round\" style=\"stroke:#231f20;stroke-width:15\" /><line x1=\"340.0\" y1=\"-160.0\" x2=\"220.0\" y2=\"-160.0\" stroke-linecap=\"round\" style=\"stroke:#231f20;stroke-width:15\" /><line x1=\"220.0\" y1=\"-160.0\" x2=\"220.0\" y2=\"-40.0\" stroke-linecap=\"round\" style=\"stroke:#231f20;stroke-width:15\" /><line x1=\"220.0\" y1=\"-40.0\" x2=\"280.0\" y2=\"-40.0\" stroke-linecap=\"round\" style=\"stroke:#231f20;stroke-width:15\" /><line x1=\"280.0\" y1=\"-40.0\" x2=\"280.0\" y2=\"-160.0\" stroke-linecap=\"round\" style=\"stroke:#231f20;stroke-width:15\" /><line x1=\"280.0\" y1=\"-160.0\" x2=\"280.0\" y2=\"-40.0\" stroke-linecap=\"round\" style=\"stroke:#231f20;stroke-width:15\" /><line x1=\"280.0\" y1=\"-40.0\" x2=\"340.0\" y2=\"-40.0\" stroke-linecap=\"round\" style=\"stroke:#231f20;stroke-width:15\" /><line x1=\"340.0\" y1=\"-40.0\" x2=\"340.0\" y2=\"-160.0\" stroke-linecap=\"round\" style=\"stroke:#231f20;stroke-width:15\" /><line x1=\"340.0\" y1=\"-160.0\" x2=\"460.0\" y2=\"-160.0\" stroke-linecap=\"round\" style=\"stroke:#231f20;stroke-width:15\" /><line x1=\"460.0\" y1=\"-160.0\" x2=\"460.0\" y2=\"-100.0\" stroke-linecap=\"round\" style=\"stroke:#231f20;stroke-width:15\" /><line x1=\"460.0\" y1=\"-100.0\" x2=\"340.0\" y2=\"-100.0\" stroke-linecap=\"round\" style=\"stroke:#231f20;stroke-width:15\" /><line x1=\"340.0\" y1=\"-100.0\" x2=\"340.0\" y2=\"80.0\" stroke-linecap=\"round\" style=\"stroke:#231f20;stroke-width:15\" /><line x1=\"340.0\" y1=\"80.0\" x2=\"220.0\" y2=\"80.0\" stroke-linecap=\"round\" style=\"stroke:#231f20;stroke-width:15\" /><line x1=\"220.0\" y1=\"80.0\" x2=\"340.0\" y2=\"80.0\" stroke-linecap=\"round\" style=\"stroke:#231f20;stroke-width:15\" /><line x1=\"340.0\" y1=\"80.0\" x2=\"340.0\" y2=\"20.0\" stroke-linecap=\"round\" style=\"stroke:#231f20;stroke-width:15\" /><line x1=\"340.0\" y1=\"20.0\" x2=\"250.0\" y2=\"20.0\" stroke-linecap=\"round\" style=\"stroke:#231f20;stroke-width:15\" /><line x1=\"250.0\" y1=\"20.0\" x2=\"340.0\" y2=\"20.0\" stroke-linecap=\"round\" style=\"stroke:#231f20;stroke-width:15\" /><line x1=\"340.0\" y1=\"20.0\" x2=\"340.0\" y2=\"-40.0\" stroke-linecap=\"round\" style=\"stroke:#231f20;stroke-width:15\" /><line x1=\"340.0\" y1=\"-40.0\" x2=\"400.0\" y2=\"-40.0\" stroke-linecap=\"round\" style=\"stroke:#231f20;stroke-width:15\" /><line x1=\"400.0\" y1=\"-40.0\" x2=\"400.0\" y2=\"80.0\" stroke-linecap=\"round\" style=\"stroke:#231f20;stroke-width:15\" /><line x1=\"400.0\" y1=\"80.0\" x2=\"400.0\" y2=\"-40.0\" stroke-linecap=\"round\" style=\"stroke:#231f20;stroke-width:15\" /><line x1=\"400.0\" y1=\"-40.0\" x2=\"460.0\" y2=\"-40.0\" stroke-linecap=\"round\" style=\"stroke:#231f20;stroke-width:15\" /><line x1=\"460.0\" y1=\"-40.0\" x2=\"460.0\" y2=\"-160.0\" stroke-linecap=\"round\" style=\"stroke:#231f20;stroke-width:15\" /><line x1=\"460.0\" y1=\"-160.0\" x2=\"400.0\" y2=\"-160.0\" stroke-linecap=\"round\" style=\"stroke:#231f20;stroke-width:15\" /><line x1=\"400.0\" y1=\"-160.0\" x2=\"400.0\" y2=\"-280.0\" stroke-linecap=\"round\" style=\"stroke:#231f20;stroke-width:15\" /><line x1=\"400.0\" y1=\"-280.0\" x2=\"400.0\" y2=\"-160.0\" stroke-linecap=\"round\" style=\"stroke:#231f20;stroke-width:15\" /><line x1=\"400.0\" y1=\"-160.0\" x2=\"460.0\" y2=\"-160.0\" stroke-linecap=\"round\" style=\"stroke:#231f20;stroke-width:15\" /><line x1=\"460.0\" y1=\"-160.0\" x2=\"460.0\" y2=\"-280.0\" stroke-linecap=\"round\" style=\"stroke:#231f20;stroke-width:15\" /><line x1=\"460.0\" y1=\"-280.0\" x2=\"580.0\" y2=\"-280.0\" stroke-linecap=\"round\" style=\"stroke:#231f20;stroke-width:15\" /><line x1=\"580.0\" y1=\"-280.0\" x2=\"460.0\" y2=\"-280.0\" stroke-linecap=\"round\" style=\"stroke:#231f20;stroke-width:15\" /><line x1=\"460.0\" y1=\"-280.0\" x2=\"460.0\" y2=\"-220.0\" stroke-linecap=\"round\" style=\"stroke:#231f20;stroke-width:15\" /><line x1=\"460.0\" y1=\"-220.0\" x2=\"550.0\" y2=\"-220.0\" stroke-linecap=\"round\" style=\"stroke:#231f20;stroke-width:15\" /><line x1=\"550.0\" y1=\"-220.0\" x2=\"460.0\" y2=\"-220.0\" stroke-linecap=\"round\" style=\"stroke:#231f20;stroke-width:15\" /><line x1=\"460.0\" y1=\"-220.0\" x2=\"460.0\" y2=\"-160.0\" stroke-linecap=\"round\" style=\"stroke:#231f20;stroke-width:15\" /><line x1=\"460.0\" y1=\"-160.0\" x2=\"580.0\" y2=\"-160.0\" stroke-linecap=\"round\" style=\"stroke:#231f20;stroke-width:15\" /><line x1=\"580.0\" y1=\"-160.0\" x2=\"580.0\" y2=\"-40.0\" stroke-linecap=\"round\" style=\"stroke:#231f20;stroke-width:15\" /><line x1=\"580.0\" y1=\"-40.0\" x2=\"520.0\" y2=\"-40.0\" stroke-linecap=\"round\" style=\"stroke:#231f20;stroke-width:15\" /><line x1=\"520.0\" y1=\"-40.0\" x2=\"520.0\" y2=\"-160.0\" stroke-linecap=\"round\" style=\"stroke:#231f20;stroke-width:15\" /><line x1=\"520.0\" y1=\"-160.0\" x2=\"520.0\" y2=\"-40.0\" stroke-linecap=\"round\" style=\"stroke:#231f20;stroke-width:15\" /><line x1=\"520.0\" y1=\"-40.0\" x2=\"460.0\" y2=\"-40.0\" stroke-linecap=\"round\" style=\"stroke:#231f20;stroke-width:15\" /><line x1=\"460.0\" y1=\"-40.0\" x2=\"460.0\" y2=\"20.0\" stroke-linecap=\"round\" style=\"stroke:#231f20;stroke-width:15\" /><line x1=\"460.0\" y1=\"20.0\" x2=\"550.0\" y2=\"20.0\" stroke-linecap=\"round\" style=\"stroke:#231f20;stroke-width:15\" /><line x1=\"550.0\" y1=\"20.0\" x2=\"460.0\" y2=\"20.0\" stroke-linecap=\"round\" style=\"stroke:#231f20;stroke-width:15\" /><line x1=\"460.0\" y1=\"20.0\" x2=\"460.0\" y2=\"80.0\" stroke-linecap=\"round\" style=\"stroke:#231f20;stroke-width:15\" /><line x1=\"460.0\" y1=\"80.0\" x2=\"580.0\" y2=\"80.0\" stroke-linecap=\"round\" style=\"stroke:#231f20;stroke-width:15\" /><line x1=\"400.0\" y1=\"700.0\" x2=\"340.0\" y2=\"700.0\" stroke-linecap=\"round\" style=\"stroke:#231f20;stroke-width:15\" /><line x1=\"340.0\" y1=\"700.0\" x2=\"340.0\" y2=\"640.0\" stroke-linecap=\"round\" style=\"stroke:#231f20;stroke-width:15\" /><line x1=\"340.0\" y1=\"640.0\" x2=\"340.0\" y2=\"520.0\" stroke-linecap=\"round\" style=\"stroke:#231f20;stroke-width:15\" /><line x1=\"340.0\" y1=\"520.0\" x2=\"220.0\" y2=\"520.0\" stroke-linecap=\"round\" style=\"stroke:#231f20;stroke-width:15\" /><line x1=\"220.0\" y1=\"520.0\" x2=\"340.0\" y2=\"520.0\" stroke-linecap=\"round\" style=\"stroke:#231f20;stroke-width:15\" /><line x1=\"340.0\" y1=\"520.0\" x2=\"340.0\" y2=\"580.0\" stroke-linecap=\"round\" style=\"stroke:#231f20;stroke-width:15\" /><line x1=\"340.0\" y1=\"580.0\" x2=\"250.0\" y2=\"580.0\" stroke-linecap=\"round\" style=\"stroke:#231f20;stroke-width:15\" /><line x1=\"250.0\" y1=\"580.0\" x2=\"340.0\" y2=\"580.0\" stroke-linecap=\"round\" style=\"stroke:#231f20;stroke-width:15\" /><line x1=\"340.0\" y1=\"580.0\" x2=\"340.0\" y2=\"640.0\" stroke-linecap=\"round\" style=\"stroke:#231f20;stroke-width:15\" /><line x1=\"340.0\" y1=\"640.0\" x2=\"220.0\" y2=\"640.0\" stroke-linecap=\"round\" style=\"stroke:#231f20;stroke-width:15\" /><line x1=\"220.0\" y1=\"640.0\" x2=\"220.0\" y2=\"760.0\" stroke-linecap=\"round\" style=\"stroke:#231f20;stroke-width:15\" /><line x1=\"220.0\" y1=\"760.0\" x2=\"280.0\" y2=\"760.0\" stroke-linecap=\"round\" style=\"stroke:#231f20;stroke-width:15\" /><line x1=\"280.0\" y1=\"760.0\" x2=\"280.0\" y2=\"640.0\" stroke-linecap=\"round\" style=\"stroke:#231f20;stroke-width:15\" /><line x1=\"280.0\" y1=\"640.0\" x2=\"280.0\" y2=\"760.0\" stroke-linecap=\"round\" style=\"stroke:#231f20;stroke-width:15\" /><line x1=\"280.0\" y1=\"760.0\" x2=\"340.0\" y2=\"760.0\" stroke-linecap=\"round\" style=\"stroke:#231f20;stroke-width:15\" /><line x1=\"340.0\" y1=\"760.0\" x2=\"340.0\" y2=\"640.0\" stroke-linecap=\"round\" style=\"stroke:#231f20;stroke-width:15\" /><line x1=\"340.0\" y1=\"640.0\" x2=\"460.0\" y2=\"640.0\" stroke-linecap=\"round\" style=\"stroke:#231f20;stroke-width:15\" /><line x1=\"460.0\" y1=\"640.0\" x2=\"460.0\" y2=\"700.0\" stroke-linecap=\"round\" style=\"stroke:#231f20;stroke-width:15\" /><line x1=\"460.0\" y1=\"700.0\" x2=\"340.0\" y2=\"700.0\" stroke-linecap=\"round\" style=\"stroke:#231f20;stroke-width:15\" /><line x1=\"340.0\" y1=\"700.0\" x2=\"340.0\" y2=\"880.0\" stroke-linecap=\"round\" style=\"stroke:#231f20;stroke-width:15\" /><line x1=\"340.0\" y1=\"880.0\" x2=\"220.0\" y2=\"880.0\" stroke-linecap=\"round\" style=\"stroke:#231f20;stroke-width:15\" /><line x1=\"220.0\" y1=\"880.0\" x2=\"340.0\" y2=\"880.0\" stroke-linecap=\"round\" style=\"stroke:#231f20;stroke-width:15\" /><line x1=\"340.0\" y1=\"880.0\" x2=\"340.0\" y2=\"820.0\" stroke-linecap=\"round\" style=\"stroke:#231f20;stroke-width:15\" /><line x1=\"340.0\" y1=\"820.0\" x2=\"250.0\" y2=\"820.0\" stroke-linecap=\"round\" style=\"stroke:#231f20;stroke-width:15\" /><line x1=\"250.0\" y1=\"820.0\" x2=\"340.0\" y2=\"820.0\" stroke-linecap=\"round\" style=\"stroke:#231f20;stroke-width:15\" /><line x1=\"340.0\" y1=\"820.0\" x2=\"340.0\" y2=\"760.0\" stroke-linecap=\"round\" style=\"stroke:#231f20;stroke-width:15\" /><line x1=\"340.0\" y1=\"760.0\" x2=\"400.0\" y2=\"760.0\" stroke-linecap=\"round\" style=\"stroke:#231f20;stroke-width:15\" /><line x1=\"400.0\" y1=\"760.0\" x2=\"400.0\" y2=\"880.0\" stroke-linecap=\"round\" style=\"stroke:#231f20;stroke-width:15\" /><line x1=\"400.0\" y1=\"880.0\" x2=\"400.0\" y2=\"760.0\" stroke-linecap=\"round\" style=\"stroke:#231f20;stroke-width:15\" /><line x1=\"400.0\" y1=\"760.0\" x2=\"460.0\" y2=\"760.0\" stroke-linecap=\"round\" style=\"stroke:#231f20;stroke-width:15\" /><line x1=\"460.0\" y1=\"760.0\" x2=\"460.0\" y2=\"640.0\" stroke-linecap=\"round\" style=\"stroke:#231f20;stroke-width:15\" /><line x1=\"460.0\" y1=\"640.0\" x2=\"400.0\" y2=\"640.0\" stroke-linecap=\"round\" style=\"stroke:#231f20;stroke-width:15\" /><line x1=\"400.0\" y1=\"640.0\" x2=\"400.0\" y2=\"520.0\" stroke-linecap=\"round\" style=\"stroke:#231f20;stroke-width:15\" /><line x1=\"400.0\" y1=\"520.0\" x2=\"400.0\" y2=\"640.0\" stroke-linecap=\"round\" style=\"stroke:#231f20;stroke-width:15\" /><line x1=\"400.0\" y1=\"640.0\" x2=\"460.0\" y2=\"640.0\" stroke-linecap=\"round\" style=\"stroke:#231f20;stroke-width:15\" /><line x1=\"460.0\" y1=\"640.0\" x2=\"460.0\" y2=\"520.0\" stroke-linecap=\"round\" style=\"stroke:#231f20;stroke-width:15\" /><line x1=\"460.0\" y1=\"520.0\" x2=\"580.0\" y2=\"520.0\" stroke-linecap=\"round\" style=\"stroke:#231f20;stroke-width:15\" /><line x1=\"580.0\" y1=\"520.0\" x2=\"460.0\" y2=\"520.0\" stroke-linecap=\"round\" style=\"stroke:#231f20;stroke-width:15\" /><line x1=\"460.0\" y1=\"520.0\" x2=\"460.0\" y2=\"580.0\" stroke-linecap=\"round\" style=\"stroke:#231f20;stroke-width:15\" /><line x1=\"460.0\" y1=\"580.0\" x2=\"550.0\" y2=\"580.0\" stroke-linecap=\"round\" style=\"stroke:#231f20;stroke-width:15\" /><line x1=\"550.0\" y1=\"580.0\" x2=\"460.0\" y2=\"580.0\" stroke-linecap=\"round\" style=\"stroke:#231f20;stroke-width:15\" /><line x1=\"460.0\" y1=\"580.0\" x2=\"460.0\" y2=\"640.0\" stroke-linecap=\"round\" style=\"stroke:#231f20;stroke-width:15\" /><line x1=\"460.0\" y1=\"640.0\" x2=\"580.0\" y2=\"640.0\" stroke-linecap=\"round\" style=\"stroke:#231f20;stroke-width:15\" /><line x1=\"580.0\" y1=\"640.0\" x2=\"580.0\" y2=\"760.0\" stroke-linecap=\"round\" style=\"stroke:#231f20;stroke-width:15\" /><line x1=\"580.0\" y1=\"760.0\" x2=\"520.0\" y2=\"760.0\" stroke-linecap=\"round\" style=\"stroke:#231f20;stroke-width:15\" /><line x1=\"520.0\" y1=\"760.0\" x2=\"520.0\" y2=\"640.0\" stroke-linecap=\"round\" style=\"stroke:#231f20;stroke-width:15\" /><line x1=\"520.0\" y1=\"640.0\" x2=\"520.0\" y2=\"760.0\" stroke-linecap=\"round\" style=\"stroke:#231f20;stroke-width:15\" /><line x1=\"520.0\" y1=\"760.0\" x2=\"460.0\" y2=\"760.0\" stroke-linecap=\"round\" style=\"stroke:#231f20;stroke-width:15\" /><line x1=\"460.0\" y1=\"760.0\" x2=\"460.0\" y2=\"820.0\" stroke-linecap=\"round\" style=\"stroke:#231f20;stroke-width:15\" /><line x1=\"460.0\" y1=\"820.0\" x2=\"550.0\" y2=\"820.0\" stroke-linecap=\"round\" style=\"stroke:#231f20;stroke-width:15\" /><line x1=\"550.0\" y1=\"820.0\" x2=\"460.0\" y2=\"820.0\" stroke-linecap=\"round\" style=\"stroke:#231f20;stroke-width:15\" /><line x1=\"460.0\" y1=\"820.0\" x2=\"460.0\" y2=\"880.0\" stroke-linecap=\"round\" style=\"stroke:#231f20;stroke-width:15\" /><line x1=\"460.0\" y1=\"880.0\" x2=\"470.0\" y2=\"880.0\" stroke-linecap=\"round\" style=\"stroke:#231f20;stroke-width:15\" /><line x1=\"470.0\" y1=\"880.0\" x2=\"480.0\" y2=\"880.0\" stroke-linecap=\"round\" style=\"stroke:#231f20;stroke-width:15\" /><line x1=\"480.0\" y1=\"880.0\" x2=\"490.0\" y2=\"880.0\" stroke-linecap=\"round\" style=\"stroke:#231f20;stroke-width:15\" /><line x1=\"490.0\" y1=\"880.0\" x2=\"500.0\" y2=\"880.0\" stroke-linecap=\"round\" style=\"stroke:#231f20;stroke-width:15\" /><line x1=\"500.0\" y1=\"880.0\" x2=\"510.0\" y2=\"880.0\" stroke-linecap=\"round\" style=\"stroke:#231f20;stroke-width:15\" /><line x1=\"510.0\" y1=\"880.0\" x2=\"520.0\" y2=\"880.0\" stroke-linecap=\"round\" style=\"stroke:#231f20;stroke-width:15\" /><line x1=\"520.0\" y1=\"880.0\" x2=\"530.0\" y2=\"880.0\" stroke-linecap=\"round\" style=\"stroke:#231f20;stroke-width:15\" /><line x1=\"530.0\" y1=\"880.0\" x2=\"540.0\" y2=\"880.0\" stroke-linecap=\"round\" style=\"stroke:#231f20;stroke-width:15\" /><line x1=\"540.0\" y1=\"880.0\" x2=\"550.0\" y2=\"880.0\" stroke-linecap=\"round\" style=\"stroke:#231f20;stroke-width:15\" /><line x1=\"550.0\" y1=\"880.0\" x2=\"560.0\" y2=\"880.0\" stroke-linecap=\"round\" style=\"stroke:#231f20;stroke-width:15\" /><line x1=\"560.0\" y1=\"880.0\" x2=\"570.0\" y2=\"880.0\" stroke-linecap=\"round\" style=\"stroke:#231f20;stroke-width:15\" /><line x1=\"570.0\" y1=\"880.0\" x2=\"580.0\" y2=\"880.0\" stroke-linecap=\"round\" style=\"stroke:#231f20;stroke-width:15\" />\n",
              "        \n",
              "        \n",
              "        <g id=\"classic\" visibility=\"visible\" transform=\"rotate(-90,580.0,880.0) translate(580.0, 880.0)\">\n",
              "<polygon points=\"-5,-4.5 0,-2.5 5,-4.5 0,4.5\" transform=\"skewX(0) scale(1,1)\" style=\"stroke:#231f20;fill:black;stroke-width:1\" />\n",
              "</g>\n",
              "      </svg>\n",
              "    "
            ]
          },
          "metadata": {}
        }
      ]
    }
  ]
}
