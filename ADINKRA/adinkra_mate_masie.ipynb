{
  "nbformat": 4,
  "nbformat_minor": 0,
  "metadata": {
    "colab": {
      "provenance": [],
      "authorship_tag": "ABX9TyM09wzUJRChrM4/PrSea1rx",
      "include_colab_link": true
    },
    "kernelspec": {
      "name": "python3",
      "display_name": "Python 3"
    },
    "language_info": {
      "name": "python"
    }
  },
  "cells": [
    {
      "cell_type": "markdown",
      "metadata": {
        "id": "view-in-github",
        "colab_type": "text"
      },
      "source": [
        "<a href=\"https://colab.research.google.com/github/marioluciofjr/codesoiram.python/blob/main/adinkra_mate_masie.ipynb\" target=\"_parent\"><img src=\"https://colab.research.google.com/assets/colab-badge.svg\" alt=\"Open In Colab\"/></a>"
      ]
    },
    {
      "cell_type": "markdown",
      "source": [
        "# Explicação\n",
        "Adinkra são símbolos visuais com significado histórico e filosófico originalmente impressos em tecidos que a realeza usava em cerimônias importantes. Originários do povo Gyaman do Gana e da Costa do Marfim, os símbolos assumiram importância global e são agora encontrados em logótipos, roupas, móveis, esculturas, potes de barro e muitos outros.\n",
        "\n",
        "Saturados de significado, estes símbolos passaram a simbolizar a riqueza da cultura Akan em particular e da cultura africana em geral, pois servem como um atalho para comunicar verdades profundas em forma visual. Na verdade, muitos dos símbolos têm os seus próprios provérbios Akan ligados a eles.\n",
        "\n",
        "Além disso, a adopção generalizada de Adinkra, especialmente entre os afro-americanos e outros africanos em toda a diáspora, tornou-os ícones dos símbolos e da filosofia africana.\n",
        "\n",
        "## Mate Masie\n",
        "\n",
        "Eu ouvi e guardei. Um símbolo de sabedoria, conhecimento e prudência. Do ditado, \"Nyansa bon mu ne mate masie\", a saber, \"O buraco da sabedoria é 'Eu ouvi e guardei'\""
      ],
      "metadata": {
        "id": "MfgGEYTvEIcA"
      }
    },
    {
      "cell_type": "code",
      "execution_count": 1,
      "metadata": {
        "colab": {
          "base_uri": "https://localhost:8080/"
        },
        "id": "8AOw0DDtD4t_",
        "outputId": "a00a6fb5-f15a-4b25-b0a1-c7a3452a4ffd"
      },
      "outputs": [
        {
          "output_type": "stream",
          "name": "stdout",
          "text": [
            "Collecting ColabTurtlePlus\n",
            "  Downloading ColabTurtlePlus-2.0.1-py3-none-any.whl (31 kB)\n",
            "Installing collected packages: ColabTurtlePlus\n",
            "Successfully installed ColabTurtlePlus-2.0.1\n",
            "Put clearscreen() as the first line in a cell (after the import command) to re-run turtle commands in the cell\n"
          ]
        }
      ],
      "source": [
        "!pip install ColabTurtlePlus\n",
        "from ColabTurtlePlus.Turtle import *"
      ]
    },
    {
      "cell_type": "code",
      "source": [
        "setup(2000,2000)\n",
        "\n",
        "initializeTurtle()\n",
        "speed(13)\n",
        "pensize(10)\n",
        "\n",
        "def mate_masie(x, y):\n",
        "    penup()\n",
        "    goto(x, y)\n",
        "    pendown()\n",
        "    bgcolor(\"white\")\n",
        "    pencolor(\"black\")\n",
        "\n",
        "    # Desenha o círculo externo\n",
        "    circle(100)\n",
        "\n",
        "    # Desenha o círculo interno preenchido\n",
        "    color(\"black\")\n",
        "    begin_fill()\n",
        "    circle(50)\n",
        "    end_fill()\n",
        "\n",
        "# Desenha quatro olhinhos em diferentes posições\n",
        "mate_masie(0, 0)\n",
        "mate_masie(200, 0)\n",
        "mate_masie(0, -200)\n",
        "mate_masie(200, -200)\n",
        "\n",
        "saveSVG(\"mate_masie.svg\", False)\n",
        "\n",
        "done()"
      ],
      "metadata": {
        "colab": {
          "base_uri": "https://localhost:8080/",
          "height": 621
        },
        "id": "iuRQlpGOKf6F",
        "outputId": "2cfaa26c-4793-4be0-e11f-78394e7716ff"
      },
      "execution_count": 60,
      "outputs": [
        {
          "output_type": "display_data",
          "data": {
            "text/plain": [
              "<IPython.core.display.HTML object>"
            ],
            "text/html": [
              "\n",
              "      <svg width=\"800\" height=\"600\">  \n",
              "        <rect width=\"100%\" height=\"100%\" style=\"fill:white;stroke:;stroke-width:1\"/>\n",
              "        \n",
              "        \n",
              "        <path d=\"M 400.0 300.0 A 100 100 0 0 0 400.0 100.0\" stroke-linecap=\"round\" \n",
              "            fill=\"transparent\" fill-opacity=\"0\" style=\"stroke:black;stroke-width:10\"/><path d=\"M 400.0 100.0 A 100 100 0 0 0 400.0 300.0\" stroke-linecap=\"round\" \n",
              "            fill=\"transparent\" fill-opacity=\"0\" style=\"stroke:black;stroke-width:10\"/><path fill-rule=\"evenodd\" fill-opacity=\"1\" d=\"M 400.0 300.0  A 50 50 0 0 0 400.0 200.0  A 50 50 0 0 0 400.0 300.0 \" stroke-linecap=\"round\" style=\"stroke:black;stroke-width:10\" fill=\"black\" /><path d=\"M 600.0 300.0 A 100 100 0 0 0 600.0 100.0\" stroke-linecap=\"round\" \n",
              "            fill=\"transparent\" fill-opacity=\"0\" style=\"stroke:black;stroke-width:10\"/><path d=\"M 600.0 100.0 A 100 100 0 0 0 600.0 300.0\" stroke-linecap=\"round\" \n",
              "            fill=\"transparent\" fill-opacity=\"0\" style=\"stroke:black;stroke-width:10\"/><path fill-rule=\"evenodd\" fill-opacity=\"1\" d=\"M 600.0 300.0  A 50 50 0 0 0 600.0 200.0  A 50 50 0 0 0 600.0 300.0 \" stroke-linecap=\"round\" style=\"stroke:black;stroke-width:10\" fill=\"black\" /><path d=\"M 400.0 500.0 A 100 100 0 0 0 400.0 300.0\" stroke-linecap=\"round\" \n",
              "            fill=\"transparent\" fill-opacity=\"0\" style=\"stroke:black;stroke-width:10\"/><path d=\"M 400.0 300.0 A 100 100 0 0 0 400.0 500.0\" stroke-linecap=\"round\" \n",
              "            fill=\"transparent\" fill-opacity=\"0\" style=\"stroke:black;stroke-width:10\"/><path fill-rule=\"evenodd\" fill-opacity=\"1\" d=\"M 400.0 500.0  A 50 50 0 0 0 400.0 400.0  A 50 50 0 0 0 400.0 500.0 \" stroke-linecap=\"round\" style=\"stroke:black;stroke-width:10\" fill=\"black\" /><path d=\"M 600.0 500.0 A 100 100 0 0 0 600.0 300.0\" stroke-linecap=\"round\" \n",
              "            fill=\"transparent\" fill-opacity=\"0\" style=\"stroke:black;stroke-width:10\"/><path d=\"M 600.0 300.0 A 100 100 0 0 0 600.0 500.0\" stroke-linecap=\"round\" \n",
              "            fill=\"transparent\" fill-opacity=\"0\" style=\"stroke:black;stroke-width:10\"/><path fill-rule=\"evenodd\" fill-opacity=\"1\" d=\"M 600.0 500.0  A 50 50 0 0 0 600.0 400.0  A 50 50 0 0 0 600.0 500.0 \" stroke-linecap=\"round\" style=\"stroke:black;stroke-width:10\" fill=\"black\" />\n",
              "        \n",
              "        \n",
              "        <g id=\"classic\" visibility=\"visible\" transform=\"rotate(-90.0,600.0,500.0) translate(600.0, 500.0)\">\n",
              "<polygon points=\"-5,-4.5 0,-2.5 5,-4.5 0,4.5\" transform=\"skewX(0) scale(1,1)\" style=\"stroke:black;fill:black;stroke-width:1\" />\n",
              "</g>\n",
              "      </svg>\n",
              "    "
            ]
          },
          "metadata": {}
        }
      ]
    }
  ]
}
