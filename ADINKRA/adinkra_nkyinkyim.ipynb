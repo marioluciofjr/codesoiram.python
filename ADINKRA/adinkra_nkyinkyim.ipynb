{
  "nbformat": 4,
  "nbformat_minor": 0,
  "metadata": {
    "colab": {
      "provenance": [],
      "authorship_tag": "ABX9TyN2XyNo4xBXSUnpxrf8Riwo",
      "include_colab_link": true
    },
    "kernelspec": {
      "name": "python3",
      "display_name": "Python 3"
    },
    "language_info": {
      "name": "python"
    }
  },
  "cells": [
    {
      "cell_type": "markdown",
      "metadata": {
        "id": "view-in-github",
        "colab_type": "text"
      },
      "source": [
        "<a href=\"https://colab.research.google.com/github/marioluciofjr/codesoiram.python/blob/main/adinkra_nkyinkyim.ipynb\" target=\"_parent\"><img src=\"https://colab.research.google.com/assets/colab-badge.svg\" alt=\"Open In Colab\"/></a>"
      ]
    },
    {
      "cell_type": "markdown",
      "source": [
        "# Explicação\n",
        "\n",
        "Adinkra são símbolos visuais com significado histórico e filosófico originalmente impressos em tecidos que a realeza usava em cerimônias importantes. Originários do povo Gyaman do Gana e da Costa do Marfim, os símbolos assumiram importância global e são agora encontrados em logótipos, roupas, móveis, esculturas, potes de barro e muitos outros.\n",
        "\n",
        "Saturados de significado, estes símbolos passaram a simbolizar a riqueza da cultura Akan em particular e da cultura africana em geral, pois servem como um atalho para comunicar verdades profundas em forma visual. Na verdade, muitos dos símbolos têm os seus próprios provérbios Akan ligados a eles.\n",
        "\n",
        "Além disso, a adopção generalizada de Adinkra, especialmente entre os afro-americanos e outros africanos em toda a diáspora, tornou-os ícones dos símbolos e da filosofia africana.\n",
        "\n",
        "\n",
        "## Nkyinkyim\n",
        "\n",
        "Um símbolo que representa a natureza tortuosa da jornada da vida e, também, a resistência, versatilidade e dinamismo necessários para prosperar nela. Willis observa que também é um símbolo de dedicação ao serviço."
      ],
      "metadata": {
        "id": "LjqarVU-vF2m"
      }
    },
    {
      "cell_type": "code",
      "execution_count": 89,
      "metadata": {
        "colab": {
          "base_uri": "https://localhost:8080/"
        },
        "id": "roPp6r-nLA-L",
        "outputId": "eeffa983-b865-445a-a7b1-a1f67c877b38"
      },
      "outputs": [
        {
          "output_type": "stream",
          "name": "stdout",
          "text": [
            "Requirement already satisfied: ColabTurtlePlus in /usr/local/lib/python3.10/dist-packages (2.0.1)\n"
          ]
        }
      ],
      "source": [
        "!pip install ColabTurtlePlus"
      ]
    },
    {
      "cell_type": "code",
      "source": [
        "from ColabTurtlePlus.Turtle import *"
      ],
      "metadata": {
        "colab": {
          "base_uri": "https://localhost:8080/"
        },
        "id": "D8R4PTsLMNc4",
        "outputId": "6cf40cb8-29a6-4e10-e13d-704444799761"
      },
      "execution_count": 4,
      "outputs": [
        {
          "output_type": "stream",
          "name": "stdout",
          "text": [
            "Put clearscreen() as the first line in a cell (after the import command) to re-run turtle commands in the cell\n"
          ]
        }
      ]
    },
    {
      "cell_type": "code",
      "source": [
        "setup(2000,2000)\n",
        "\n",
        "def repete_um():\n",
        "  fd(120)\n",
        "  left(90)\n",
        "  fd(20)\n",
        "  left(90)\n",
        "\n",
        "def repete_dois():\n",
        "  fd(120)\n",
        "  left(-90)\n",
        "  fd(20)\n",
        "  left(-90)\n",
        "\n",
        "def repete_tres():\n",
        "  left(90)\n",
        "  fd(40)\n",
        "  left(-90)\n",
        "  fd(20)\n",
        "  bk(20)\n",
        "\n",
        "def nkyinkyim():\n",
        "  initializeTurtle()\n",
        "  speed(13)\n",
        "  pensize(15)\n",
        "  left(180)\n",
        "  for _ in range(2):\n",
        "    repete_um()\n",
        "    repete_dois()\n",
        "  fd(120)\n",
        "  left(90)\n",
        "  fd(20)\n",
        "  bk(20)\n",
        "  for _ in range(3):\n",
        "    repete_tres()\n",
        "  saveSVG(\"nkyinkyim.svg\", False)\n",
        "\n",
        "nkyinkyim()\n"
      ],
      "metadata": {
        "colab": {
          "base_uri": "https://localhost:8080/",
          "height": 621
        },
        "id": "56dGQs7uPHjX",
        "outputId": "f8797040-b87f-420d-8e62-678e4f6c1af9"
      },
      "execution_count": 104,
      "outputs": [
        {
          "output_type": "display_data",
          "data": {
            "text/plain": [
              "<IPython.core.display.HTML object>"
            ],
            "text/html": [
              "\n",
              "      <svg width=\"800\" height=\"600\">  \n",
              "        <rect width=\"100%\" height=\"100%\" style=\"fill:white;stroke:;stroke-width:1\"/>\n",
              "        \n",
              "        \n",
              "        <line x1=\"400.0\" y1=\"300.0\" x2=\"280.0\" y2=\"300.0\" stroke-linecap=\"round\" style=\"stroke:black;stroke-width:15\" /><line x1=\"280.0\" y1=\"300.0\" x2=\"280.0\" y2=\"320.0\" stroke-linecap=\"round\" style=\"stroke:black;stroke-width:15\" /><line x1=\"280.0\" y1=\"320.0\" x2=\"400.0\" y2=\"320.0\" stroke-linecap=\"round\" style=\"stroke:black;stroke-width:15\" /><line x1=\"400.0\" y1=\"320.0\" x2=\"400.0\" y2=\"340.0\" stroke-linecap=\"round\" style=\"stroke:black;stroke-width:15\" /><line x1=\"400.0\" y1=\"340.0\" x2=\"280.0\" y2=\"340.0\" stroke-linecap=\"round\" style=\"stroke:black;stroke-width:15\" /><line x1=\"280.0\" y1=\"340.0\" x2=\"280.0\" y2=\"360.0\" stroke-linecap=\"round\" style=\"stroke:black;stroke-width:15\" /><line x1=\"280.0\" y1=\"360.0\" x2=\"400.0\" y2=\"360.0\" stroke-linecap=\"round\" style=\"stroke:black;stroke-width:15\" /><line x1=\"400.0\" y1=\"360.0\" x2=\"400.0\" y2=\"380.0\" stroke-linecap=\"round\" style=\"stroke:black;stroke-width:15\" /><line x1=\"400.0\" y1=\"380.0\" x2=\"280.0\" y2=\"380.0\" stroke-linecap=\"round\" style=\"stroke:black;stroke-width:15\" /><line x1=\"280.0\" y1=\"380.0\" x2=\"280.0\" y2=\"400.0\" stroke-linecap=\"round\" style=\"stroke:black;stroke-width:15\" /><line x1=\"280.0\" y1=\"400.0\" x2=\"280.0\" y2=\"380.0\" stroke-linecap=\"round\" style=\"stroke:black;stroke-width:15\" /><line x1=\"280.0\" y1=\"380.0\" x2=\"320.0\" y2=\"380.0\" stroke-linecap=\"round\" style=\"stroke:black;stroke-width:15\" /><line x1=\"320.0\" y1=\"380.0\" x2=\"320.0\" y2=\"400.0\" stroke-linecap=\"round\" style=\"stroke:black;stroke-width:15\" /><line x1=\"320.0\" y1=\"400.0\" x2=\"320.0\" y2=\"380.0\" stroke-linecap=\"round\" style=\"stroke:black;stroke-width:15\" /><line x1=\"320.0\" y1=\"380.0\" x2=\"360.0\" y2=\"380.0\" stroke-linecap=\"round\" style=\"stroke:black;stroke-width:15\" /><line x1=\"360.0\" y1=\"380.0\" x2=\"360.0\" y2=\"400.0\" stroke-linecap=\"round\" style=\"stroke:black;stroke-width:15\" /><line x1=\"360.0\" y1=\"400.0\" x2=\"360.0\" y2=\"380.0\" stroke-linecap=\"round\" style=\"stroke:black;stroke-width:15\" /><line x1=\"360.0\" y1=\"380.0\" x2=\"400.0\" y2=\"380.0\" stroke-linecap=\"round\" style=\"stroke:black;stroke-width:15\" /><line x1=\"400.0\" y1=\"380.0\" x2=\"400.0\" y2=\"400.0\" stroke-linecap=\"round\" style=\"stroke:black;stroke-width:15\" /><line x1=\"400.0\" y1=\"400.0\" x2=\"400.0\" y2=\"390.0\" stroke-linecap=\"round\" style=\"stroke:black;stroke-width:15\" /><line x1=\"400.0\" y1=\"390.0\" x2=\"400.0\" y2=\"380.0\" stroke-linecap=\"round\" style=\"stroke:black;stroke-width:15\" />\n",
              "        \n",
              "        \n",
              "        <g id=\"classic\" visibility=\"visible\" transform=\"rotate(0,400.0,380.0) translate(400.0, 380.0)\">\n",
              "<polygon points=\"-5,-4.5 0,-2.5 5,-4.5 0,4.5\" transform=\"skewX(0) scale(1,1)\" style=\"stroke:black;fill:black;stroke-width:1\" />\n",
              "</g><g id=\"classic\" visibility=\"visible\" transform=\"rotate(-90,400.0,300.0) translate(400.0, 300.0)\">\n",
              "<polygon points=\"-5,-4.5 0,-2.5 5,-4.5 0,4.5\" transform=\"skewX(0) scale(1,1)\" style=\"stroke:black;fill:black;stroke-width:1\" />\n",
              "</g><g id=\"classic\" visibility=\"visible\" transform=\"rotate(-90,400.0,300.0) translate(400.0, 300.0)\">\n",
              "<polygon points=\"-5,-4.5 0,-2.5 5,-4.5 0,4.5\" transform=\"skewX(0) scale(1,1)\" style=\"stroke:black;fill:black;stroke-width:1\" />\n",
              "</g><g id=\"classic\" visibility=\"visible\" transform=\"rotate(-90,400.0,300.0) translate(400.0, 300.0)\">\n",
              "<polygon points=\"-5,-4.5 0,-2.5 5,-4.5 0,4.5\" transform=\"skewX(0) scale(1,1)\" style=\"stroke:black;fill:black;stroke-width:1\" />\n",
              "</g><g id=\"classic\" visibility=\"visible\" transform=\"rotate(-90,400.0,300.0) translate(400.0, 300.0)\">\n",
              "<polygon points=\"-5,-4.5 0,-2.5 5,-4.5 0,4.5\" transform=\"skewX(0) scale(1,1)\" style=\"stroke:black;fill:black;stroke-width:1\" />\n",
              "</g><g id=\"classic\" visibility=\"visible\" transform=\"rotate(-90,400.0,300.0) translate(400.0, 300.0)\">\n",
              "<polygon points=\"-5,-4.5 0,-2.5 5,-4.5 0,4.5\" transform=\"skewX(0) scale(1,1)\" style=\"stroke:black;fill:black;stroke-width:1\" />\n",
              "<animateTransform id = \"one\" attributeName=\"transform\" \n",
              "                      type=\"scale\"\n",
              "                      from=\"1 1\" to=\"1 1\"\n",
              "                      begin=\"0s\" dur=\"0.01s\"\n",
              "                      repeatCount=\"1\"\n",
              "                      additive=\"sum\"\n",
              "                      fill=\"freeze\"\n",
              "                /><animateTransform attributeName=\"transform\"\n",
              "                    type=\"rotate\"\n",
              "                    from=\"0 0 0\" to =\"-360 0 0\"\n",
              "                    begin=\"one.end\" dur=\"0.02s\"\n",
              "                    repeatCount=\"1\"\n",
              "                    additive=\"sum\"\n",
              "                    fill=\"freeze\"\n",
              "                /></g><g id=\"classic\" visibility=\"visible\" transform=\"rotate(-90,400.0,300.0) translate(400.0, 300.0)\">\n",
              "<polygon points=\"-5,-4.5 0,-2.5 5,-4.5 0,4.5\" transform=\"skewX(0) scale(1,1)\" style=\"stroke:black;fill:black;stroke-width:1\" />\n",
              "</g><g id=\"classic\" visibility=\"visible\" transform=\"rotate(-90,400.0,300.0) translate(400.0, 300.0)\">\n",
              "<polygon points=\"-5,-4.5 0,-2.5 5,-4.5 0,4.5\" transform=\"skewX(0) scale(1,1)\" style=\"stroke:black;fill:black;stroke-width:1\" />\n",
              "</g><g id=\"classic\" visibility=\"visible\" transform=\"rotate(-90,400.0,300.0) translate(400.0, 300.0)\">\n",
              "<polygon points=\"-5,-4.5 0,-2.5 5,-4.5 0,4.5\" transform=\"skewX(0) scale(1,1)\" style=\"stroke:black;fill:black;stroke-width:1\" />\n",
              "</g><g id=\"classic\" visibility=\"visible\" transform=\"rotate(-90,400.0,300.0) translate(400.0, 300.0)\">\n",
              "<polygon points=\"-5,-4.5 0,-2.5 5,-4.5 0,4.5\" transform=\"skewX(0) scale(1,1)\" style=\"stroke:black;fill:black;stroke-width:1\" />\n",
              "</g>\n",
              "      </svg>\n",
              "    "
            ]
          },
          "metadata": {}
        }
      ]
    }
  ]
}
