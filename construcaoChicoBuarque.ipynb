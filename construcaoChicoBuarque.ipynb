{
  "nbformat": 4,
  "nbformat_minor": 0,
  "metadata": {
    "colab": {
      "provenance": [],
      "authorship_tag": "ABX9TyPWphcgMiUPwrBe56Ivqr0c",
      "include_colab_link": true
    },
    "kernelspec": {
      "name": "python3",
      "display_name": "Python 3"
    },
    "language_info": {
      "name": "python"
    }
  },
  "cells": [
    {
      "cell_type": "markdown",
      "metadata": {
        "id": "view-in-github",
        "colab_type": "text"
      },
      "source": [
        "<a href=\"https://colab.research.google.com/github/marioluciofjr/codesoiram.python/blob/main/construcaoChicoBuarque.ipynb\" target=\"_parent\"><img src=\"https://colab.research.google.com/assets/colab-badge.svg\" alt=\"Open In Colab\"/></a>"
      ]
    },
    {
      "cell_type": "code",
      "execution_count": null,
      "metadata": {
        "colab": {
          "base_uri": "https://localhost:8080/"
        },
        "id": "Vy3MaoXtFLHg",
        "outputId": "cf0179b7-f6cd-4fd0-eca5-9e64fce3ac19"
      },
      "outputs": [
        {
          "output_type": "stream",
          "name": "stdout",
          "text": [
            "\n",
            "    CONSTRUÇÃO (Chico Buarque feat Python)\n",
            "\n",
            "    Amou daquela vez como se fosse o último.\n",
            "    Beijou sua mulher como se fosse a última\n",
            "    E cada filho seu como se fosse o pródigo\n",
            "    E atravessou a rua com seu passo bêbado\n",
            "\n",
            "    Subiu a construção como se fosse sólido\n",
            "    Ergueu no patamar quatro paredes sólidas\n",
            "    Tijolo com tijolo num desenho mágico\n",
            "    Seus olhos embotados de cimento e tráfego\n",
            "\n",
            "    Sentou pra descansar como se fosse sábado\n",
            "    Comeu feijão com arroz como se fosse o máximo\n",
            "    Bebeu e soluçou como se fosse máquina\n",
            "    Dançou e gargalhou como se ouvisse música\n",
            "\n",
            "    E tropeçou no céu como se fosse um bêbado\n",
            "    E flutuou no ar como se fosse um príncipe\n",
            "    E se acabou no chão feito um pacote tímido\n",
            "    Agonizou no meio do passeio público\n",
            "    Morreu na contramão, atrapalhando o sábado\n"
          ]
        }
      ],
      "source": [
        "import random\n",
        "\n",
        "lista1 = ['a última', 'o último', 'máquina']\n",
        "lista2 = ['a última', 'a única', 'lógico']\n",
        "lista3 = ['o único', 'o pródigo']\n",
        "lista4 = ['tímido', 'bêbado']\n",
        "\n",
        "lista5 = ['máquina','sólido']\n",
        "lista6 = ['sólidas', 'mágicas', 'flácidas']\n",
        "lista7 = ['mágico', 'lógico']\n",
        "lista8 = ['lágrima', 'tráfego']\n",
        "\n",
        "lista9 = ['sábado', 'um príncipe', 'um pássaro']\n",
        "lista10 = ['um príncipe', 'o máximo']\n",
        "lista11 = ['um náufrago', 'máquina']\n",
        "lista12 = ['música', 'o próximo']\n",
        "\n",
        "lista13 = ['um bêbado', 'música']\n",
        "lista14 = ['um pássaro', 'sábado', 'um príncipe']\n",
        "lista15 = ['flácido', 'tímido', 'bêbado']\n",
        "lista16 = ['público', 'náufrago']\n",
        "lista17 = ['o tráfego', 'o público', 'o sábado']\n",
        "\n",
        "def gerar_musica():\n",
        "    listas = [lista1, lista2, lista3, lista4, lista5, lista6, lista7, lista8, lista9, lista10, lista11, lista12, lista13, lista14, lista15, lista16, lista17]\n",
        "    finais = [random.choice(lista) for lista in listas]\n",
        "\n",
        "    return f\"\"\"\n",
        "    CONSTRUÇÃO (Chico Buarque feat Python)\n",
        "\n",
        "    Amou daquela vez como se fosse {finais[0]}.\n",
        "    Beijou sua mulher como se fosse {finais[1]}\n",
        "    E cada filho seu como se fosse {finais[2]}\n",
        "    E atravessou a rua com seu passo {finais[3]}\n",
        "\n",
        "    Subiu a construção como se fosse {finais[4]}\n",
        "    Ergueu no patamar quatro paredes {finais[5]}\n",
        "    Tijolo com tijolo num desenho {finais[6]}\n",
        "    Seus olhos embotados de cimento e {finais[7]}\n",
        "\n",
        "    Sentou pra descansar como se fosse {finais[8]}\n",
        "    Comeu feijão com arroz como se fosse {finais[9]}\n",
        "    Bebeu e soluçou como se fosse {finais[10]}\n",
        "    Dançou e gargalhou como se ouvisse {finais[11]}\n",
        "\n",
        "    E tropeçou no céu como se fosse {finais[12]}\n",
        "    E flutuou no ar como se fosse {finais[13]}\n",
        "    E se acabou no chão feito um pacote {finais[14]}\n",
        "    Agonizou no meio do passeio {finais[15]}\n",
        "    Morreu na contramão, atrapalhando {finais[16]}\"\"\"\n",
        "\n",
        "print(gerar_musica())"
      ]
    }
  ]
}