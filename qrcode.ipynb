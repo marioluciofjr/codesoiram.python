# 1ª etapa: Instale a biblioteca "qrcode"
!pip install qrcode

# 2ª etapa: importe a biblioteca
import qrcode

# 3ª etapa: Escolha o que o seu qrcode vai direcionar. Neste exemplo, eu utilizei um site.
imagem_qrcode = qrcode.make("http://prazocerto.me")

# 4ª etapa: Gere o arquivo de imagem. A extensão você pode mudar no lugar de ".png"
imagem_qrcode.save("prazocerto.me.png")

# A imagem será salva na pasta que estiver o seu arquivo .ipynb (Jupyter Notebook)
