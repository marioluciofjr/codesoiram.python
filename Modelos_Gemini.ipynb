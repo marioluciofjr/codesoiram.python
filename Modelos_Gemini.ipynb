{
  "nbformat": 4,
  "nbformat_minor": 0,
  "metadata": {
    "colab": {
      "provenance": [],
      "authorship_tag": "ABX9TyPU582XQZ9gds7TouQWR5qp",
      "include_colab_link": true
    },
    "kernelspec": {
      "name": "python3",
      "display_name": "Python 3"
    },
    "language_info": {
      "name": "python"
    }
  },
  "cells": [
    {
      "cell_type": "markdown",
      "metadata": {
        "id": "view-in-github",
        "colab_type": "text"
      },
      "source": [
        "<a href=\"https://colab.research.google.com/github/marioluciofjr/codesoiram.python/blob/main/Modelos_Gemini.ipynb\" target=\"_parent\"><img src=\"https://colab.research.google.com/assets/colab-badge.svg\" alt=\"Open In Colab\"/></a>"
      ]
    },
    {
      "cell_type": "code",
      "execution_count": null,
      "metadata": {
        "id": "ILqymfvWsId5"
      },
      "outputs": [],
      "source": [
        "# Instalando o pacote do Gemini\n",
        "!pip install -q -U google-generativeai"
      ]
    },
    {
      "cell_type": "code",
      "source": [
        "# Importações para utilizar a API do Gemini\n",
        "import google.generativeai as genai\n",
        "\n",
        "from google.colab import userdata\n",
        "chave_secreta = userdata.get('senha')\n",
        "\n",
        "genai.configure(api_key=chave_secreta)\n",
        "\n",
        "# Conferindo os modelos generativos disponíveis\n",
        "\n",
        "for m in genai.list_models():\n",
        "  if 'generateContent' in m.supported_generation_methods:\n",
        "    print(m.name)\n"
      ],
      "metadata": {
        "id": "plCHVw0zscBP"
      },
      "execution_count": null,
      "outputs": []
    }
  ]
}