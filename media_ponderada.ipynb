# importe as bibliotecas pandas e numpy
import pandas as pd
import numpy as np

# gere uma lista vazia para colocar as notas
lista_de_notas = [ ] 

# estipule o total de notas que serão inseridas posteriormente
notas_range = int(input("Total de Notas : ")) 

# nessa estrutura de repetição você colocará nota por nota 
for i in range(0, notas_range): 
    notas = float(input("Digite uma Nota: "))
    lista_de_notas.append(notas) 

# gere uma lista vazia para colocar os pesos
lista_de_pesos = [ ] 

# um peso para cada nota
pesos_range = notas_range 

# nessa estrutura de repetição você colocará peso por peso  
for i in range(0, pesos_range): 
    pesos = float(input("Digite um Peso: "))
    lista_de_pesos.append(pesos)

# crie um dicionário com as notas e os pesos utilizando o pandas
notas_pesos = pd.DataFrame.from_dict({"Notas": lista_de_notas,
                                      "Pesos": lista_de_pesos})

# calcule a média ponderada utilizando o numpy
media_ponderada = np.average(a= notas_pesos["Notas"], 
                             weights= notas_pesos["Pesos"])

# mostre o resultado
print("A Média Ponderada é: ", media_ponderada)
