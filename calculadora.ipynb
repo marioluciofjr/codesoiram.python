{
  "nbformat": 4,
  "nbformat_minor": 0,
  "metadata": {
    "colab": {
      "provenance": [],
      "authorship_tag": "ABX9TyP4cHc3MOqw9hlmdkgRa74q",
      "include_colab_link": true
    },
    "kernelspec": {
      "name": "python3",
      "display_name": "Python 3"
    },
    "language_info": {
      "name": "python"
    }
  },
  "cells": [
    {
      "cell_type": "markdown",
      "metadata": {
        "id": "view-in-github",
        "colab_type": "text"
      },
      "source": [
        "<a href=\"https://colab.research.google.com/github/marioluciofjr/codesoiram.python/blob/main/calculadora.ipynb\" target=\"_parent\"><img src=\"https://colab.research.google.com/assets/colab-badge.svg\" alt=\"Open In Colab\"/></a>"
      ]
    },
    {
      "cell_type": "code",
      "source": [
        "!pip install -q -U streamlit"
      ],
      "metadata": {
        "colab": {
          "base_uri": "https://localhost:8080/"
        },
        "id": "pdh0rm5IObU8",
        "outputId": "5c25099d-660f-4e0c-8d05-d8c63793a05a"
      },
      "execution_count": 1,
      "outputs": [
        {
          "output_type": "stream",
          "name": "stdout",
          "text": [
            "\u001b[2K     \u001b[90m━━━━━━━━━━━━━━━━━━━━━━━━━━━━━━━━━━━━━━━━\u001b[0m \u001b[32m8.5/8.5 MB\u001b[0m \u001b[31m41.3 MB/s\u001b[0m eta \u001b[36m0:00:00\u001b[0m\n",
            "\u001b[2K     \u001b[90m━━━━━━━━━━━━━━━━━━━━━━━━━━━━━━━━━━━━━━━━\u001b[0m \u001b[32m207.3/207.3 kB\u001b[0m \u001b[31m10.6 MB/s\u001b[0m eta \u001b[36m0:00:00\u001b[0m\n",
            "\u001b[2K     \u001b[90m━━━━━━━━━━━━━━━━━━━━━━━━━━━━━━━━━━━━━━━━\u001b[0m \u001b[32m6.9/6.9 MB\u001b[0m \u001b[31m47.2 MB/s\u001b[0m eta \u001b[36m0:00:00\u001b[0m\n",
            "\u001b[2K     \u001b[90m━━━━━━━━━━━━━━━━━━━━━━━━━━━━━━━━━━━━━━━━\u001b[0m \u001b[32m83.0/83.0 kB\u001b[0m \u001b[31m6.9 MB/s\u001b[0m eta \u001b[36m0:00:00\u001b[0m\n",
            "\u001b[2K     \u001b[90m━━━━━━━━━━━━━━━━━━━━━━━━━━━━━━━━━━━━━━━━\u001b[0m \u001b[32m62.7/62.7 kB\u001b[0m \u001b[31m5.6 MB/s\u001b[0m eta \u001b[36m0:00:00\u001b[0m\n",
            "\u001b[?25h"
          ]
        }
      ]
    },
    {
      "cell_type": "code",
      "source": [
        "import streamlit as st\n",
        "run = st.button(\"Run\")"
      ],
      "metadata": {
        "id": "EC7TE_0bOoJR"
      },
      "execution_count": null,
      "outputs": []
    },
    {
      "cell_type": "code",
      "execution_count": null,
      "metadata": {
        "id": "ClBSDvavOVtV"
      },
      "outputs": [],
      "source": [
        "# condicional para rodar o código até você finalizá-lo\n",
        "menu_calc = \"\"\n",
        "while menu_calc != 7:\n",
        "    menu_calc = int(input(\"\"\"Escolha a operação matemática que deseja fazer:\n",
        "\n",
        "1 - Soma\n",
        "2 - Subtração\n",
        "3 - Multiplicação\n",
        "4 - Divisão\n",
        "5 - Raiz Quadrada\n",
        "6 - Exponenciação\n",
        "7 - Finalizar o código\n",
        "\n",
        "\"\"\"))\n",
        "\n",
        "    # condicional de opções a partir do input do menu\n",
        "    if menu_calc == 1:\n",
        "        primeiro_num = float(input(\"Digite um número qualquer: \"))\n",
        "        segundo_num = float(input(\"Digite um número qualquer: \"))\n",
        "        soma = primeiro_num + segundo_num\n",
        "        print(f\"{primeiro_num} + {segundo_num} = \", soma)\n",
        "\n",
        "    elif menu_calc == 2:\n",
        "        primeiro_num = float(input(\"Digite um número qualquer: \"))\n",
        "        segundo_num = float(input(\"Digite um número qualquer: \"))\n",
        "        subtrai = primeiro_num - segundo_num\n",
        "        print(f\"{primeiro_num} - {segundo_num} = \", subtrai)\n",
        "\n",
        "    elif menu_calc == 3:\n",
        "        primeiro_num = float(input(\"Digite um número qualquer: \"))\n",
        "        segundo_num = float(input(\"Digite um número qualquer: \"))\n",
        "        multiplica = primeiro_num * segundo_num\n",
        "        print(f\"{primeiro_num} * {segundo_num} = \", multiplica)\n",
        "\n",
        "    elif menu_calc == 4:\n",
        "        primeiro_num = float(input(\"Digite um número qualquer: \"))\n",
        "        segundo_num = float(input(\"Digite um número qualquer: \"))\n",
        "        try:\n",
        "            divide = primeiro_num / segundo_num\n",
        "            print(f\"{primeiro_num} / {segundo_num} = \", divide)\n",
        "        except ZeroDivisionError:\n",
        "            print(\"\\nPutz! Não é possível dividir por 0.\")\n",
        "\n",
        "    elif menu_calc == 5:\n",
        "        num = float(input(\"Digite um número qualquer: \"))\n",
        "        raiz = num ** 0.5\n",
        "        print(f\"A raiz quadrada de {num} é = \", raiz)\n",
        "\n",
        "    elif menu_calc == 6:\n",
        "        primeiro_num = float(input(\"Digite um número qualquer: \"))\n",
        "        segundo_num = float(input(\"Digite um número qualquer: \"))\n",
        "        exponencial = primeiro_num ** segundo_num\n",
        "        print(f\"{primeiro_num} elevado a {segundo_num} = \", exponencial)\n",
        "\n",
        "\n",
        "    else:\n",
        "        print(\"Script finalizado\")"
      ]
    }
  ]
}