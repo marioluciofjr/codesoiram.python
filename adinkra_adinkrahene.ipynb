{
  "nbformat": 4,
  "nbformat_minor": 0,
  "metadata": {
    "colab": {
      "provenance": [],
      "authorship_tag": "ABX9TyOpIROEX8/FqhJ/xbdfX4hM",
      "include_colab_link": true
    },
    "kernelspec": {
      "name": "python3",
      "display_name": "Python 3"
    },
    "language_info": {
      "name": "python"
    }
  },
  "cells": [
    {
      "cell_type": "markdown",
      "metadata": {
        "id": "view-in-github",
        "colab_type": "text"
      },
      "source": [
        "<a href=\"https://colab.research.google.com/github/marioluciofjr/codesoiram.python/blob/main/adinkra_adinkrahene.ipynb\" target=\"_parent\"><img src=\"https://colab.research.google.com/assets/colab-badge.svg\" alt=\"Open In Colab\"/></a>"
      ]
    },
    {
      "cell_type": "markdown",
      "source": [
        "# Explicação\n",
        "Adinkra são símbolos visuais com significado histórico e filosófico originalmente impressos em tecidos que a realeza usava em cerimônias importantes. Originários do povo Gyaman do Gana e da Costa do Marfim, os símbolos assumiram importância global e são agora encontrados em logótipos, roupas, móveis, esculturas, potes de barro e muitos outros.\n",
        "\n",
        "Saturados de significado, estes símbolos passaram a simbolizar a riqueza da cultura Akan em particular e da cultura africana em geral, pois servem como um atalho para comunicar verdades profundas em forma visual. Na verdade, muitos dos símbolos têm os seus próprios provérbios Akan ligados a eles.\n",
        "\n",
        "Além disso, a adopção generalizada de Adinkra, especialmente entre os afro-americanos e outros africanos em toda a diáspora, tornou-os ícones dos símbolos e da filosofia africana.\n",
        "\n",
        "## Adinkrahene\n",
        "\n",
        "Símbolos do Rei dos Adinkra. Um símbolo de autoridade, liderança e carisma. Também é um símbolo de qualidades associadas aos reis. Adinkrahene é supostamente a inspiração para o design dos outros símbolos."
      ],
      "metadata": {
        "id": "0hSsmdlSNn8Z"
      }
    },
    {
      "cell_type": "code",
      "execution_count": 1,
      "metadata": {
        "colab": {
          "base_uri": "https://localhost:8080/"
        },
        "id": "6OP3eui6NhXW",
        "outputId": "740c2ffb-3d6a-4c8c-de6e-aaac5e77074a"
      },
      "outputs": [
        {
          "output_type": "stream",
          "name": "stdout",
          "text": [
            "Collecting ColabTurtlePlus\n",
            "  Downloading ColabTurtlePlus-2.0.1-py3-none-any.whl (31 kB)\n",
            "Installing collected packages: ColabTurtlePlus\n",
            "Successfully installed ColabTurtlePlus-2.0.1\n",
            "Put clearscreen() as the first line in a cell (after the import command) to re-run turtle commands in the cell\n"
          ]
        }
      ],
      "source": [
        "!pip install ColabTurtlePlus\n",
        "from ColabTurtlePlus.Turtle import *"
      ]
    },
    {
      "cell_type": "code",
      "source": [
        "setup(2000,2000)\n",
        "\n",
        "initializeTurtle()\n",
        "speed(13)\n",
        "pensize(25)\n",
        "\n",
        "circle(50)\n",
        "\n",
        "penup()\n",
        "goto(0, -50)\n",
        "pendown()\n",
        "\n",
        "circle(100)\n",
        "\n",
        "penup()\n",
        "goto(0, -100)\n",
        "pendown()\n",
        "\n",
        "circle(150)\n",
        "\n",
        "saveSVG(\"adinkrahene.svg\", False)\n",
        "\n",
        "done()"
      ],
      "metadata": {
        "colab": {
          "base_uri": "https://localhost:8080/",
          "height": 621
        },
        "id": "8NAtqCbvOM_x",
        "outputId": "020e7dfa-0723-4ccb-a06a-97fd8bf1971e"
      },
      "execution_count": 3,
      "outputs": [
        {
          "output_type": "display_data",
          "data": {
            "text/plain": [
              "<IPython.core.display.HTML object>"
            ],
            "text/html": [
              "\n",
              "      <svg width=\"800\" height=\"600\">  \n",
              "        <rect width=\"100%\" height=\"100%\" style=\"fill:white;stroke:;stroke-width:1\"/>\n",
              "        \n",
              "        \n",
              "        <path d=\"M 400.0 300.0 A 50 50 0 0 0 400.0 200.0\" stroke-linecap=\"round\" \n",
              "            fill=\"transparent\" fill-opacity=\"0\" style=\"stroke:black;stroke-width:25\"/><path d=\"M 400.0 200.0 A 50 50 0 0 0 400.0 300.0\" stroke-linecap=\"round\" \n",
              "            fill=\"transparent\" fill-opacity=\"0\" style=\"stroke:black;stroke-width:25\"/><path d=\"M 400.0 350.0 A 100 100 0 0 0 400.0 150.0\" stroke-linecap=\"round\" \n",
              "            fill=\"transparent\" fill-opacity=\"0\" style=\"stroke:black;stroke-width:25\"/><path d=\"M 400.0 150.0 A 100 100 0 0 0 400.0 350.0\" stroke-linecap=\"round\" \n",
              "            fill=\"transparent\" fill-opacity=\"0\" style=\"stroke:black;stroke-width:25\"/><path d=\"M 400.0 400.0 A 150 150 0 0 0 400.0 100.0\" stroke-linecap=\"round\" \n",
              "            fill=\"transparent\" fill-opacity=\"0\" style=\"stroke:black;stroke-width:25\"/><path d=\"M 400.0 100.0 A 150 150 0 0 0 400.0 400.0\" stroke-linecap=\"round\" \n",
              "            fill=\"transparent\" fill-opacity=\"0\" style=\"stroke:black;stroke-width:25\"/>\n",
              "        \n",
              "        \n",
              "        <g id=\"classic\" visibility=\"visible\" transform=\"rotate(-90.0,400.0,400.0) translate(400.0, 400.0)\">\n",
              "<polygon points=\"-5,-4.5 0,-2.5 5,-4.5 0,4.5\" transform=\"skewX(0) scale(1,1)\" style=\"stroke:black;fill:black;stroke-width:1\" />\n",
              "</g>\n",
              "      </svg>\n",
              "    "
            ]
          },
          "metadata": {}
        }
      ]
    }
  ]
}